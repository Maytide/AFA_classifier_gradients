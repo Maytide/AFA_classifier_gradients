{
  "nbformat": 4,
  "nbformat_minor": 0,
  "metadata": {
    "colab": {
      "name": "afa_jax.ipynb",
      "provenance": [],
      "collapsed_sections": []
    },
    "kernelspec": {
      "name": "python3",
      "display_name": "Python 3"
    },
    "language_info": {
      "name": "python"
    },
    "accelerator": "GPU"
  },
  "cells": [
    {
      "cell_type": "code",
      "execution_count": 1,
      "metadata": {
        "colab": {
          "base_uri": "https://localhost:8080/"
        },
        "id": "1R3YP0ObiJU_",
        "outputId": "be5a88e1-82a8-4a03-c5e6-4e34673ecd68"
      },
      "outputs": [
        {
          "output_type": "stream",
          "name": "stdout",
          "text": [
            "Collecting flax\n",
            "  Downloading flax-0.4.0-py3-none-any.whl (176 kB)\n",
            "\u001b[?25l\r\u001b[K     |█▉                              | 10 kB 25.7 MB/s eta 0:00:01\r\u001b[K     |███▊                            | 20 kB 27.5 MB/s eta 0:00:01\r\u001b[K     |█████▋                          | 30 kB 30.1 MB/s eta 0:00:01\r\u001b[K     |███████▍                        | 40 kB 22.4 MB/s eta 0:00:01\r\u001b[K     |█████████▎                      | 51 kB 24.6 MB/s eta 0:00:01\r\u001b[K     |███████████▏                    | 61 kB 27.7 MB/s eta 0:00:01\r\u001b[K     |█████████████                   | 71 kB 22.0 MB/s eta 0:00:01\r\u001b[K     |██████████████▉                 | 81 kB 22.2 MB/s eta 0:00:01\r\u001b[K     |████████████████▊               | 92 kB 23.6 MB/s eta 0:00:01\r\u001b[K     |██████████████████▌             | 102 kB 24.9 MB/s eta 0:00:01\r\u001b[K     |████████████████████▍           | 112 kB 24.9 MB/s eta 0:00:01\r\u001b[K     |██████████████████████▎         | 122 kB 24.9 MB/s eta 0:00:01\r\u001b[K     |████████████████████████        | 133 kB 24.9 MB/s eta 0:00:01\r\u001b[K     |██████████████████████████      | 143 kB 24.9 MB/s eta 0:00:01\r\u001b[K     |███████████████████████████▉    | 153 kB 24.9 MB/s eta 0:00:01\r\u001b[K     |█████████████████████████████▋  | 163 kB 24.9 MB/s eta 0:00:01\r\u001b[K     |███████████████████████████████▌| 174 kB 24.9 MB/s eta 0:00:01\r\u001b[K     |████████████████████████████████| 176 kB 24.9 MB/s \n",
            "\u001b[?25hRequirement already satisfied: numpy>=1.12 in /usr/local/lib/python3.7/dist-packages (from flax) (1.21.5)\n",
            "Requirement already satisfied: jax>=0.2.21 in /usr/local/lib/python3.7/dist-packages (from flax) (0.2.25)\n",
            "Requirement already satisfied: matplotlib in /usr/local/lib/python3.7/dist-packages (from flax) (3.2.2)\n",
            "Requirement already satisfied: msgpack in /usr/local/lib/python3.7/dist-packages (from flax) (1.0.3)\n",
            "Collecting optax\n",
            "  Downloading optax-0.1.1-py3-none-any.whl (136 kB)\n",
            "\u001b[?25l\r\u001b[K     |██▍                             | 10 kB 34.5 MB/s eta 0:00:01\r\u001b[K     |████▉                           | 20 kB 44.0 MB/s eta 0:00:01\r\u001b[K     |███████▏                        | 30 kB 51.8 MB/s eta 0:00:01\r\u001b[K     |█████████▋                      | 40 kB 57.2 MB/s eta 0:00:01\r\u001b[K     |████████████                    | 51 kB 56.2 MB/s eta 0:00:01\r\u001b[K     |██████████████▍                 | 61 kB 58.2 MB/s eta 0:00:01\r\u001b[K     |████████████████▉               | 71 kB 58.4 MB/s eta 0:00:01\r\u001b[K     |███████████████████▎            | 81 kB 60.0 MB/s eta 0:00:01\r\u001b[K     |█████████████████████▋          | 92 kB 63.0 MB/s eta 0:00:01\r\u001b[K     |████████████████████████        | 102 kB 65.0 MB/s eta 0:00:01\r\u001b[K     |██████████████████████████▌     | 112 kB 65.0 MB/s eta 0:00:01\r\u001b[K     |████████████████████████████▉   | 122 kB 65.0 MB/s eta 0:00:01\r\u001b[K     |███████████████████████████████▎| 133 kB 65.0 MB/s eta 0:00:01\r\u001b[K     |████████████████████████████████| 136 kB 65.0 MB/s \n",
            "\u001b[?25hRequirement already satisfied: typing-extensions in /usr/local/lib/python3.7/dist-packages (from jax>=0.2.21->flax) (3.10.0.2)\n",
            "Requirement already satisfied: opt-einsum in /usr/local/lib/python3.7/dist-packages (from jax>=0.2.21->flax) (3.3.0)\n",
            "Requirement already satisfied: absl-py in /usr/local/lib/python3.7/dist-packages (from jax>=0.2.21->flax) (1.0.0)\n",
            "Requirement already satisfied: scipy>=1.2.1 in /usr/local/lib/python3.7/dist-packages (from jax>=0.2.21->flax) (1.4.1)\n",
            "Requirement already satisfied: six in /usr/local/lib/python3.7/dist-packages (from absl-py->jax>=0.2.21->flax) (1.15.0)\n",
            "Requirement already satisfied: pyparsing!=2.0.4,!=2.1.2,!=2.1.6,>=2.0.1 in /usr/local/lib/python3.7/dist-packages (from matplotlib->flax) (3.0.7)\n",
            "Requirement already satisfied: kiwisolver>=1.0.1 in /usr/local/lib/python3.7/dist-packages (from matplotlib->flax) (1.3.2)\n",
            "Requirement already satisfied: cycler>=0.10 in /usr/local/lib/python3.7/dist-packages (from matplotlib->flax) (0.11.0)\n",
            "Requirement already satisfied: python-dateutil>=2.1 in /usr/local/lib/python3.7/dist-packages (from matplotlib->flax) (2.8.2)\n",
            "Collecting chex>=0.0.4\n",
            "  Downloading chex-0.1.0-py3-none-any.whl (65 kB)\n",
            "\u001b[K     |████████████████████████████████| 65 kB 4.8 MB/s \n",
            "\u001b[?25hRequirement already satisfied: jaxlib>=0.1.37 in /usr/local/lib/python3.7/dist-packages (from optax->flax) (0.1.71+cuda111)\n",
            "Requirement already satisfied: dm-tree>=0.1.5 in /usr/local/lib/python3.7/dist-packages (from chex>=0.0.4->optax->flax) (0.1.6)\n",
            "Requirement already satisfied: toolz>=0.9.0 in /usr/local/lib/python3.7/dist-packages (from chex>=0.0.4->optax->flax) (0.11.2)\n",
            "Requirement already satisfied: flatbuffers<3.0,>=1.12 in /usr/local/lib/python3.7/dist-packages (from jaxlib>=0.1.37->optax->flax) (2.0)\n",
            "Installing collected packages: chex, optax, flax\n",
            "Successfully installed chex-0.1.0 flax-0.4.0 optax-0.1.1\n",
            "Requirement already satisfied: optax in /usr/local/lib/python3.7/dist-packages (0.1.1)\n",
            "Requirement already satisfied: chex>=0.0.4 in /usr/local/lib/python3.7/dist-packages (from optax) (0.1.0)\n",
            "Requirement already satisfied: numpy>=1.18.0 in /usr/local/lib/python3.7/dist-packages (from optax) (1.21.5)\n",
            "Requirement already satisfied: typing-extensions>=3.10.0 in /usr/local/lib/python3.7/dist-packages (from optax) (3.10.0.2)\n",
            "Requirement already satisfied: absl-py>=0.7.1 in /usr/local/lib/python3.7/dist-packages (from optax) (1.0.0)\n",
            "Requirement already satisfied: jaxlib>=0.1.37 in /usr/local/lib/python3.7/dist-packages (from optax) (0.1.71+cuda111)\n",
            "Requirement already satisfied: jax>=0.1.55 in /usr/local/lib/python3.7/dist-packages (from optax) (0.2.25)\n",
            "Requirement already satisfied: six in /usr/local/lib/python3.7/dist-packages (from absl-py>=0.7.1->optax) (1.15.0)\n",
            "Requirement already satisfied: toolz>=0.9.0 in /usr/local/lib/python3.7/dist-packages (from chex>=0.0.4->optax) (0.11.2)\n",
            "Requirement already satisfied: dm-tree>=0.1.5 in /usr/local/lib/python3.7/dist-packages (from chex>=0.0.4->optax) (0.1.6)\n",
            "Requirement already satisfied: scipy>=1.2.1 in /usr/local/lib/python3.7/dist-packages (from jax>=0.1.55->optax) (1.4.1)\n",
            "Requirement already satisfied: opt-einsum in /usr/local/lib/python3.7/dist-packages (from jax>=0.1.55->optax) (3.3.0)\n",
            "Requirement already satisfied: flatbuffers<3.0,>=1.12 in /usr/local/lib/python3.7/dist-packages (from jaxlib>=0.1.37->optax) (2.0)\n"
          ]
        }
      ],
      "source": [
        "# !pip install --upgrade jax jaxlib # CPU-only\n",
        "!pip install flax\n",
        "!pip install optax"
      ]
    },
    {
      "cell_type": "code",
      "source": [
        "import os \n",
        "import datetime\n",
        "import random\n",
        "from functools import partial\n",
        "from typing import Any, Callable, Dict, List, Optional, Tuple\n",
        "\n",
        "from google.colab import drive\n",
        "drive.mount('/content/drive')\n",
        "\n",
        "import matplotlib\n",
        "import matplotlib.pyplot as plt\n",
        "import pickle\n",
        "import numpy as np\n",
        "import jax\n",
        "import jax.numpy as jnp\n",
        "from jax import jit\n",
        "import optax\n",
        "import flax.linen as nn\n",
        "from flax import serialization\n",
        "from flax.training import train_state\n",
        "from scipy.special import expit\n",
        "\n",
        "# For dataloader only\n",
        "import torch\n",
        "import torchvision\n",
        "\n",
        "print('Using:', jax.default_backend())"
      ],
      "metadata": {
        "id": "4bAT1SXsigLL",
        "colab": {
          "base_uri": "https://localhost:8080/"
        },
        "outputId": "7580d3ca-5f50-464a-df51-c1a2f20f6b3b"
      },
      "execution_count": 2,
      "outputs": [
        {
          "output_type": "stream",
          "name": "stdout",
          "text": [
            "Mounted at /content/drive\n",
            "Using: gpu\n"
          ]
        }
      ]
    },
    {
      "cell_type": "code",
      "source": [
        "# Set your working directory to a folder in your Google Drive. This way, if your notebook times out,\n",
        "# your files will be saved in your Google Drive!\n",
        "# https://robertbrucecarter.com/writing/2020/06/setting-your-working-directory-to-google-drive-in-a-colab-notebook/\n",
        "\n",
        "# the base Google Drive directory\n",
        "root_dir = \"/content/drive/My Drive/\"\n",
        "\n",
        "# choose where you want your project files to be saved\n",
        "project_folder = \"Grad School/JAX/AFA\"\n",
        "\n",
        "def create_and_set_working_directory(project_folder):\n",
        "    # check if your project folder exists. if not, it will be created.\n",
        "    if os.path.isdir(root_dir + project_folder) == False:\n",
        "        os.mkdir(root_dir + project_folder)\n",
        "        print(root_dir + project_folder + ' did not exist but was created.')\n",
        "\n",
        "    # change the OS to use your project folder as the working directory\n",
        "    os.chdir(root_dir + project_folder)\n",
        "\n",
        "    # create a test file to make sure it shows up in the right place\n",
        "    print('\\nYour working directory was changed to ' + root_dir + project_folder + \\\n",
        "        \"\\n\\nAn empty text file was created there. You can also run !pwd to confirm the current working directory.\" )\n",
        "\n",
        "create_and_set_working_directory(project_folder)\n",
        "!pwd\n",
        "!touch 'results/_last_access.txt'\n",
        "with open('results/_last_access.txt', 'w') as f:\n",
        "    f.write(f'Last run at: {datetime.datetime.now()}')"
      ],
      "metadata": {
        "id": "sEeSSbODFXOr",
        "colab": {
          "base_uri": "https://localhost:8080/"
        },
        "outputId": "f459f517-4e94-482b-ee8a-2f3cfb9492d7"
      },
      "execution_count": 3,
      "outputs": [
        {
          "output_type": "stream",
          "name": "stdout",
          "text": [
            "\n",
            "Your working directory was changed to /content/drive/My Drive/Grad School/JAX/AFA\n",
            "\n",
            "An empty text file was created there. You can also run !pwd to confirm the current working directory.\n",
            "/content/drive/My Drive/Grad School/JAX/AFA\n"
          ]
        }
      ]
    },
    {
      "cell_type": "code",
      "source": [
        "def save_grad_heatmap(grads, iter, grad_path_partial='samples/grads'):\n",
        "    grad_path_full = os.path.join(grad_path_partial, str(iter))\n",
        "    os.makedirs(grad_path_full, exist_ok=True)\n",
        "\n",
        "    for index, grad in enumerate(grads[:50]):\n",
        "        grad = grad.reshape(28,28)\n",
        "        matplotlib.image.imsave(os.path.join(grad_path_full, f'grad_{index}.png'), grad, cmap='plasma')\n",
        "\n",
        "def save_some_digits(X, mask, iter, img_path_partial='samples/acquired'):\n",
        "    img_path_full = os.path.join(img_path_partial, str(iter))\n",
        "    os.makedirs(img_path_full, exist_ok=True)\n",
        "\n",
        "    for index, (digit, digit_mask) in enumerate(zip(X[:50], mask[:50])):\n",
        "        digit = digit.reshape(28,28)\n",
        "        digit_mask = digit_mask.reshape(28,28)\n",
        "\n",
        "        partial_digit = \\\n",
        "            0.8*np.stack([digit_mask*digit, digit_mask*digit, digit], axis=-1) + \\\n",
        "            0.2*np.expand_dims(digit_mask, axis=-1)\n",
        "\n",
        "        matplotlib.image.imsave(os.path.join(img_path_full, f'digit_{index}.png'), partial_digit)\n",
        "\n",
        "def save_preds(preds, iter, pred_path_partial='samples/preds'):\n",
        "    pred_path_full = os.path.join(pred_path_partial, str(iter))\n",
        "    os.makedirs(pred_path_full, exist_ok=True)\n",
        "    \n",
        "    for index, pred in enumerate(preds[:50]):\n",
        "        plt.bar(range(10), pred)\n",
        "        plt.savefig(os.path.join(pred_path_full, f'pred_{index}'))\n",
        "        plt.clf()\n",
        "\n",
        "def show_grad_heatmap(grads):\n",
        "    plt.figure(figsize=(25,12))\n",
        "\n",
        "    # Go over the first 10 data points\n",
        "    for index, grad in enumerate(grads[:10]):\n",
        "        plt.subplot(2, 5, index + 1)\n",
        "        plt.imshow(grad.reshape(28,28), cmap='plasma')\n",
        "\n",
        "def show_some_digits(X, mask):\n",
        "    plt.figure(figsize=(25,12))\n",
        "\n",
        "    for index, (digit, digit_mask) in enumerate(zip(X[:5], mask[:5])):\n",
        "        digit = digit.reshape(28,28)\n",
        "        digit_mask = digit_mask.reshape(28,28)\n",
        "\n",
        "        plt.subplot(4, 5, index + 1)\n",
        "        plt.imshow(digit, cmap=plt.cm.gray)\n",
        "\n",
        "        partial_digit = \\\n",
        "            0.8*np.stack([digit_mask*digit, digit_mask*digit, digit], axis=-1) + \\\n",
        "            0.2*np.expand_dims(digit_mask, axis=-1)\n",
        "        plt.subplot(4, 5, index + 6)\n",
        "        plt.imshow(partial_digit)\n",
        "\n",
        "    for index, (digit, digit_mask) in enumerate(zip(X[5:], mask[5:])):\n",
        "        digit = digit.reshape(28,28)\n",
        "        digit_mask = digit_mask.reshape(28,28)\n",
        "\n",
        "        plt.subplot(4, 5, index + 11)\n",
        "        plt.imshow(digit, cmap=plt.cm.gray)\n",
        "\n",
        "        # 0.8*true unseen digit in blue + 0.2*acquired features in white\n",
        "        partial_digit = \\\n",
        "            0.8*np.stack([digit_mask*digit, digit_mask*digit, digit], axis=-1) + \\\n",
        "            0.2*np.expand_dims(digit_mask, axis=-1)\n",
        "        plt.subplot(4, 5, index + 16)\n",
        "        plt.imshow(partial_digit)\n",
        "\n",
        "def show_preds(preds):\n",
        "    plt.figure(figsize=(25,12))\n",
        "\n",
        "    for index, pred in enumerate(preds[:10]):\n",
        "        plt.subplot(2, 5, index + 1)\n",
        "        plt.bar(range(10), pred)\n",
        "\n",
        "def make_it_noisy(X, drop_probability):\n",
        "    # This is how we create the noisy data set\n",
        "    return np.multiply(X, np.random.choice([0, 1], size=X.shape, p=[drop_probability, 1 - drop_probability]))"
      ],
      "metadata": {
        "id": "Zk_kj3pD4rzZ"
      },
      "execution_count": 4,
      "outputs": []
    },
    {
      "cell_type": "code",
      "source": [
        "class MNISTCustom(torchvision.datasets.MNIST):\n",
        "    def __init__(\n",
        "            self,\n",
        "            root: str,\n",
        "            train: bool = True,\n",
        "            transform: Optional[Callable] = None,\n",
        "            target_transform: Optional[Callable] = None,\n",
        "            download: bool = False,):\n",
        "        super(MNISTCustom, self).__init__(root, train=train, transform=transform,\n",
        "                                          target_transform=target_transform, \n",
        "                                          download=download)\n",
        "\n",
        "        # load as numpy\n",
        "        self.data = self.data.detach().cpu().numpy().reshape(-1,28,28,1)/255\n",
        "        self.targets = self.targets.cpu().numpy()\n",
        "\n",
        "    def __getitem__(self, index: int) -> Tuple[Any, Any]:\n",
        "        return self.data[index], int(self.targets[index])"
      ],
      "metadata": {
        "id": "2_4UqXZSjHqj"
      },
      "execution_count": 5,
      "outputs": []
    },
    {
      "cell_type": "code",
      "source": [
        "# Axis at end so (bs, h, w, channels)\n",
        "collate_fn = lambda datalist: (np.stack([data[0] for data in datalist], axis=0), \n",
        "                               np.stack([data[1] for data in datalist], axis=0))\n",
        "\n",
        "num_features = 784\n",
        "train_bs = 64\n",
        "train_set_size = 60000\n",
        "test_bs = 5000\n",
        "test_set_size = 10000\n",
        "train_loader = torch.utils.data.DataLoader(\n",
        "    MNISTCustom('', train=True, download=True,),\n",
        "    batch_size=train_bs,\n",
        "    shuffle=False,\n",
        "    collate_fn=collate_fn)\n",
        "\n",
        "test_loader = torch.utils.data.DataLoader(\n",
        "    MNISTCustom('', train=False, download=True,),\n",
        "    batch_size=test_bs,\n",
        "    shuffle=False,\n",
        "    collate_fn=collate_fn)"
      ],
      "metadata": {
        "id": "US7pmwwrjc6q"
      },
      "execution_count": 6,
      "outputs": []
    },
    {
      "cell_type": "code",
      "source": [
        "class CNN(nn.Module):\n",
        "    @nn.compact\n",
        "    def __call__(self, x, train=True):\n",
        "        x = nn.Conv(features=10, kernel_size=(5, 5), padding='valid')(x)\n",
        "        x = nn.max_pool(x, window_shape=(2, 2), strides=(2, 2))\n",
        "        x = nn.relu(x)\n",
        "        x = nn.Conv(features=20, kernel_size=(5, 5), padding='valid')(x)\n",
        "        x = nn.max_pool(x, window_shape=(2, 2), strides=(2, 2)) # https://pytorch.org/docs/stable/generated/torch.nn.MaxPool2d.html\n",
        "        x = nn.relu(x)\n",
        "        x = x.reshape((x.shape[0], 320))  # flatten\n",
        "        x = nn.Dense(features=150)(x)\n",
        "        x = nn.relu(x)\n",
        "        x = nn.Dropout(0.5)(x, deterministic=not train)\n",
        "        x = nn.Dense(features=70)(x)\n",
        "        x = nn.relu(x)\n",
        "        x = nn.Dense(features=10)(x)\n",
        "        x = nn.relu(x)\n",
        "        x = nn.log_softmax(x)\n",
        "        return x"
      ],
      "metadata": {
        "id": "xD0F0Mt6iL4f"
      },
      "execution_count": 7,
      "outputs": []
    },
    {
      "cell_type": "code",
      "source": [
        "# Source: https://github.com/google/flax/blob/main/examples/mnist/train.py\n",
        "\n",
        "# https://jax.readthedocs.io/en/latest/errors.html#jax.errors.ConcretizationTypeError\n",
        "# Make train a static argument\n",
        "@partial(jit, static_argnums=[4,]) \n",
        "def apply_model(state, images, labels, rngs, train):\n",
        "    \"\"\"Computes gradients, loss and accuracy for a single batch.\"\"\"\n",
        "    def loss_fn(params):\n",
        "        logits = CNN().apply({'params': params}, images, train=train, rngs=rngs)\n",
        "        one_hot = jax.nn.one_hot(labels, 10)\n",
        "        loss = jnp.mean(optax.softmax_cross_entropy(logits=logits, labels=one_hot))\n",
        "        return loss, logits\n",
        "\n",
        "    grad_fn = jax.value_and_grad(loss_fn, has_aux=True)\n",
        "    (loss, logits), grads = grad_fn(state.params)\n",
        "    accuracy = jnp.mean(jnp.argmax(logits, -1) == labels)\n",
        "    return grads, loss, accuracy\n",
        "\n",
        "@jax.jit\n",
        "def update_model(state, grads):\n",
        "    return state.apply_gradients(grads=grads)\n",
        "\n",
        "def train_epoch(state, train_loader, batch_size, rngs):\n",
        "    epoch_loss = []\n",
        "    epoch_accuracy = []\n",
        "    \n",
        "    for i, (x, y) in enumerate(train_loader):\n",
        "        # Train on noisy samples\n",
        "        p = random.uniform(0.4, 1)\n",
        "        if p > 0.8: p = 0\n",
        "        \n",
        "        grads, loss, accuracy = apply_model(state, make_it_noisy(x, p), y, rngs, train=True)\n",
        "        state = update_model(state, grads)\n",
        "        epoch_loss.append(loss)\n",
        "        epoch_accuracy.append(accuracy)\n",
        "\n",
        "    train_loss = np.mean(epoch_loss)\n",
        "    train_accuracy = np.mean(epoch_accuracy)\n",
        "    return state, train_loss, train_accuracy\n",
        "\n",
        "def create_train_state(rngs, config):\n",
        "    \"\"\"Creates initial `TrainState`.\"\"\"\n",
        "    cnn = CNN()\n",
        "    params = cnn.init(rngs, jnp.ones([1, 28, 28, 1]))['params']\n",
        "    tx = optax.adam(config['learning_rate'])\n",
        "    return train_state.TrainState.create(\n",
        "        apply_fn=cnn.apply, params=params, tx=tx)"
      ],
      "metadata": {
        "id": "zTesL9NS8-Kr"
      },
      "execution_count": 8,
      "outputs": []
    },
    {
      "cell_type": "code",
      "source": [
        "model = CNN()"
      ],
      "metadata": {
        "id": "NksSrpNEidCS"
      },
      "execution_count": 9,
      "outputs": []
    },
    {
      "cell_type": "code",
      "source": [
        "config = {\n",
        "    'num_epochs': 2,\n",
        "    'batch_size': 64,\n",
        "    'learning_rate': 1e-3,\n",
        "}\n",
        "num_epochs = 6\n",
        "batch_size = 64"
      ],
      "metadata": {
        "id": "F4sWV0_OgDsE"
      },
      "execution_count": 10,
      "outputs": []
    },
    {
      "cell_type": "code",
      "source": [
        "# Setup for training\n",
        "np.random.seed(0)\n",
        "rng = jax.random.PRNGKey(0)\n",
        "rng, init_rng = jax.random.split(rng)\n",
        "rng, dropout_rng = jax.random.split(rng)\n",
        "rngs = {\n",
        "    'params': init_rng,\n",
        "    'dropout': dropout_rng\n",
        "}\n",
        "state = create_train_state(rngs, config)\n",
        "\n",
        "# Training loop\n",
        "for epoch in range(1, num_epochs + 1):\n",
        "    rng, dropout_rng = jax.random.split(rng)\n",
        "    rngs_iter = {'dropout': dropout_rng,}\n",
        "    state, train_loss, train_accuracy = train_epoch(state, train_loader,\n",
        "                                                    batch_size,\n",
        "                                                    rngs_iter)\n",
        "    x_test, y_test = next(iter(test_loader))\n",
        "    _, test_loss, test_accuracy = apply_model(state, x_test,\n",
        "                                              y_test, rngs_iter, \n",
        "                                              train=False)\n",
        "    print('epoch:% 3d, train_loss: %.4f, train_accuracy: %.2f, test_loss: %.4f, test_accuracy: %.2f'\n",
        "        % (epoch, train_loss, train_accuracy * 100, test_loss,\n",
        "           test_accuracy * 100))\n",
        "    "
      ],
      "metadata": {
        "id": "XUiAXlWQiktb",
        "colab": {
          "base_uri": "https://localhost:8080/"
        },
        "outputId": "34454c0a-71e6-4562-b2bf-4f8b90b57f6f"
      },
      "execution_count": 16,
      "outputs": [
        {
          "output_type": "stream",
          "name": "stdout",
          "text": [
            "epoch:  1, train_loss: 0.5062, train_accuracy: 84.00, test_loss: 0.1601, test_accuracy: 95.28\n",
            "epoch:  2, train_loss: 0.2290, train_accuracy: 92.95, test_loss: 0.1303, test_accuracy: 96.26\n",
            "epoch:  3, train_loss: 0.1887, train_accuracy: 94.11, test_loss: 0.0974, test_accuracy: 97.16\n",
            "epoch:  4, train_loss: 0.1658, train_accuracy: 94.95, test_loss: 0.0807, test_accuracy: 97.28\n",
            "epoch:  5, train_loss: 0.1578, train_accuracy: 95.05, test_loss: 0.0767, test_accuracy: 97.54\n",
            "epoch:  6, train_loss: 0.1479, train_accuracy: 95.43, test_loss: 0.0720, test_accuracy: 97.74\n"
          ]
        }
      ]
    },
    {
      "cell_type": "code",
      "source": [
        "# https://flax.readthedocs.io/en/latest/notebooks/flax_basics.html#Serializing-the-result\n",
        "bytes_output = serialization.to_bytes(state.params)\n",
        "with open('model.dat', 'wb') as f:\n",
        "    f.write(bytes_output)"
      ],
      "metadata": {
        "id": "iEHHt9XwWCT2"
      },
      "execution_count": 21,
      "outputs": []
    },
    {
      "cell_type": "code",
      "source": [
        "# AFA stuff\n",
        "def forward_func(image, params, rngs): \n",
        "    # Will vmap this later, so assume image is one sample rather than batch\n",
        "    return jnp.linalg.norm(CNN().apply({'params': state.params}, jnp.expand_dims(image, 0), train=False, rngs=rngs)[0], axis=0)\n",
        "\n",
        "def pred(images, params, rngs):\n",
        "    return CNN().apply({'params': state.params}, images, train=False, rngs=rngs)\n",
        "\n",
        "def accuracy(images, labels, params, rngs):\n",
        "    logits = pred(images, params, rngs)\n",
        "    accuracy = np.mean(np.argmax(logits, -1) == labels)\n",
        "\n",
        "    return logits, accuracy\n"
      ],
      "metadata": {
        "id": "oI0dPAmCROfj"
      },
      "execution_count": 22,
      "outputs": []
    },
    {
      "cell_type": "code",
      "source": [
        "test_rng = {'dropout': jax.random.PRNGKey(1)}\n",
        "input_arr = jnp.zeros((28,28,1))\n",
        "# input_arr = input_arr.at[14,14,0].set(1)\n",
        "test_grad = jax.grad(forward_func, 0)(input_arr, state.params, test_rng)\n",
        "for row in test_grad[:5]:\n",
        "    print(row.squeeze())"
      ],
      "metadata": {
        "id": "yVCZ4sL5KNoA",
        "colab": {
          "base_uri": "https://localhost:8080/"
        },
        "outputId": "52cd2210-af1b-4096-c39c-cbdc97ec0858"
      },
      "execution_count": 23,
      "outputs": [
        {
          "output_type": "stream",
          "name": "stdout",
          "text": [
            "[ 1.1134364e-02 -7.1473322e-03 -2.1932074e-03 -5.1348370e-02\n",
            "  5.7658567e-03  1.5588674e-03 -2.9197507e-02 -4.3058731e-02\n",
            " -2.4018681e-02  2.3485154e-02 -7.9274364e-02  5.3288527e-02\n",
            " -7.0209369e-02 -8.3530778e-03 -1.0857055e-01 -2.1623123e-02\n",
            " -5.5587705e-02 -2.3077933e-02 -3.3359546e-02 -2.7607301e-02\n",
            " -1.6142167e-02  4.9686478e-03 -5.0416049e-03 -1.1091993e-02\n",
            " -5.4062218e-03  2.6890064e-09  3.6721275e-09  0.0000000e+00]\n",
            "[-1.8666264e-02 -2.1811806e-02  2.0852024e-02  2.8294554e-02\n",
            " -1.0023756e-01 -3.0108394e-02  7.9258993e-02  6.0944315e-02\n",
            " -3.6821000e-02 -1.6562501e-02 -9.0763345e-03 -2.1354256e-02\n",
            "  3.8688727e-02 -7.5993396e-02 -1.1317815e-01 -7.4834436e-02\n",
            " -6.3925083e-03  5.1123591e-04 -5.4192584e-02  1.0436561e-02\n",
            " -4.9133804e-02 -1.9515281e-03  6.5176287e-03  1.6526397e-02\n",
            " -2.6847994e-02  5.9563554e-09  7.0295734e-09  0.0000000e+00]\n",
            "[ 1.19719161e-02 -3.85931171e-02 -3.01472656e-02  4.33300510e-02\n",
            "  7.44551644e-02 -1.32087246e-02 -7.71023333e-02  3.30319732e-01\n",
            "  1.43166795e-01  2.74963081e-01 -1.05350122e-01  2.61153728e-01\n",
            "  1.00388341e-01  2.42530201e-02 -2.02386245e-01 -1.05748996e-01\n",
            " -8.75129178e-02 -1.88954454e-02 -1.03526860e-01  1.76552515e-02\n",
            " -9.27475318e-02 -1.50646027e-02 -3.06366384e-02 -9.67545249e-03\n",
            " -3.37423533e-02 -1.64550396e-09  1.00683932e-08  0.00000000e+00]\n",
            "[-1.99009664e-03 -5.26906690e-03 -4.33343500e-02  1.22773601e-02\n",
            "  7.38865510e-02 -2.10298039e-02  1.28349215e-02  1.39323533e-01\n",
            "  3.94463688e-02 -5.29370569e-02 -8.62495452e-02 -4.03148942e-02\n",
            " -1.24458611e-01 -1.68800503e-01 -2.02039883e-01 -7.61590227e-02\n",
            " -9.40976143e-02 -3.70203294e-02 -1.34480074e-01 -6.24275953e-02\n",
            " -7.39103779e-02 -3.36469710e-02 -7.59885237e-02 -1.31128756e-02\n",
            " -3.31488103e-02  4.65339545e-09  2.77789489e-08  0.00000000e+00]\n",
            "[ 3.08306143e-02 -9.18111205e-03  1.63030643e-02 -1.27729654e-01\n",
            " -1.53460894e-02 -1.28413007e-01 -7.33823180e-02  4.91432175e-02\n",
            " -4.13601771e-02  8.35411064e-03 -2.04718933e-01  3.75592083e-01\n",
            " -1.98211167e-02  3.47204119e-01 -3.79161775e-01  2.15046644e-01\n",
            " -9.30516124e-02  2.63694674e-01 -1.43566102e-01  1.59531772e-01\n",
            " -5.59731126e-02  6.69396892e-02 -1.02114744e-01 -2.16762405e-02\n",
            " -4.83952090e-02 -3.05721990e-08 -4.71243800e-09  0.00000000e+00]\n"
          ]
        }
      ]
    },
    {
      "cell_type": "code",
      "source": [
        "with open('results/accuracy.txt', 'w') as f:\n",
        "    f.write('acquired_features, accuracy\\n')\n",
        "\n",
        "# Feature acquisition\n",
        "\n",
        "c = 0\n",
        "acc = 0\n",
        "# matrix to keep track of which features are acquired\n",
        "# Also used to create masks to hide unacquired features from the trained clf\n",
        "acquired = np.zeros((test_set_size, num_features), dtype=np.uint32) + 5000\n",
        "for feature_num in range(num_features):\n",
        "    if feature_num % 10 == 0: \n",
        "        print(f'acquiring feature: {feature_num}...')\n",
        "        c = 0\n",
        "        acc = 0\n",
        "\n",
        "    for b, (x_test, y_test) in enumerate(test_loader): \n",
        "        # Initialize batch indexer\n",
        "        x_test = jnp.asarray(x_test)\n",
        "        bs = x_test.shape[0]\n",
        "        lower_idx = b*test_bs\n",
        "        upper_idx = lower_idx + bs\n",
        "        bs_indexer = np.expand_dims(np.arange(bs, dtype=int), axis=1) # Shape (5000,1)\n",
        "\n",
        "        # Mask x_test to only acquired features with batch indexing\n",
        "        # in other words, set missing features to zero\n",
        "        feature_mask = np.zeros((bs,num_features))\n",
        "        feature_mask[bs_indexer,acquired[lower_idx:upper_idx,:feature_num]] = 1\n",
        "        # x_test = x_test * feature_mask.reshape((-1,28,28,1))\n",
        "\n",
        "        rng, dropout_rng = jax.random.split(rng) \n",
        "        rngs_iter = {'dropout': dropout_rng,}\n",
        "\n",
        "        # Duplicate state.params, rngs_iter by passing in_axes None\n",
        "        # Will try this both with and without dropout (usually disabled at test time)\n",
        "        # Note: same rng seed is duplicated for each element in batch, but \n",
        "        # doesn't seem to be a big deal\n",
        "        grads = jax.jit(jax.vmap(\n",
        "            jax.grad(forward_func, 0), in_axes=(0,None,None), out_axes=0)) \\\n",
        "            (x_test * feature_mask.reshape((-1,28,28,1)), state.params, rngs_iter).reshape((-1,784))\n",
        "\n",
        "        # Mask grads to only non-acquired features\n",
        "        grads_mask = np.ones_like(grads)\n",
        "        grads_mask[bs_indexer,acquired[lower_idx:upper_idx,:feature_num]] = 0\n",
        "        \n",
        "        # add 1e-7 so argmax will prioritize unmasked (ie unacquired) features\n",
        "        # in the case that grads are all zero\n",
        "        grads = np.absolute(grads) + 1e-7\n",
        "\n",
        "        # Select feature for each element in batch\n",
        "        # selected_idx has shape (5000,1)\n",
        "        selected_idx = np.argmax(grads * grads_mask, axis=1)\n",
        "        acquired[lower_idx:upper_idx, feature_num] = selected_idx\n",
        "\n",
        "        # Evaluate accuracy on 0th, 10th, etc feature\n",
        "        # note: 0th feature = 1 acquired feature\n",
        "        if feature_num % 10 == 0: \n",
        "            rng, dropout_rng = jax.random.split(rng) \n",
        "            rngs_iter = {'dropout': dropout_rng,}\n",
        "\n",
        "            # print(type(x_test * feature_mask.reshape((-1,28,28,1)))) | <class 'jaxlib.xla_extension.DeviceArray'>\n",
        "            logits, batch_acc = accuracy(x_test * feature_mask.reshape((-1,28,28,1)), y_test, state.params, rngs_iter)\n",
        "            acc += bs*batch_acc\n",
        "            c += bs\n",
        "\n",
        "            # Save samples of progress\n",
        "            save_grad_heatmap(grads, feature_num)\n",
        "            save_some_digits(x_test, feature_mask, feature_num)\n",
        "            save_preds(expit(logits), feature_num)\n",
        "\n",
        "    if feature_num % 10 == 0: \n",
        "        assert c > 0\n",
        "        acc /= c\n",
        "        info_str = f'{feature_num}, {100*acc}\\n'\n",
        "        print(f'Current progress - {info_str}')\n",
        "        with open('results/accuracy.txt', 'a+') as f:\n",
        "            f.write(info_str)\n",
        "    \n",
        "    if feature_num >= 200:\n",
        "        break"
      ],
      "metadata": {
        "id": "fEtzHxGFmSUQ",
        "colab": {
          "base_uri": "https://localhost:8080/",
          "height": 1000
        },
        "outputId": "d0acb15c-4ed5-4353-a22a-ed2f5b4a2924"
      },
      "execution_count": 24,
      "outputs": [
        {
          "output_type": "stream",
          "name": "stdout",
          "text": [
            "acquiring feature: 0...\n",
            "Current progress - 0, 9.739999771118164\n",
            "\n",
            "acquiring feature: 10...\n",
            "Current progress - 10, 32.279998779296875\n",
            "\n",
            "acquiring feature: 20...\n",
            "Current progress - 20, 51.290000915527344\n",
            "\n",
            "acquiring feature: 30...\n",
            "Current progress - 30, 65.56999969482422\n",
            "\n",
            "acquiring feature: 40...\n",
            "Current progress - 40, 74.52000427246094\n",
            "\n",
            "acquiring feature: 50...\n",
            "Current progress - 50, 81.57000732421875\n",
            "\n",
            "acquiring feature: 60...\n",
            "Current progress - 60, 85.77000427246094\n",
            "\n",
            "acquiring feature: 70...\n",
            "Current progress - 70, 88.39000701904297\n",
            "\n",
            "acquiring feature: 80...\n",
            "Current progress - 80, 90.41999816894531\n",
            "\n",
            "acquiring feature: 90...\n",
            "Current progress - 90, 91.6300048828125\n",
            "\n",
            "acquiring feature: 100...\n",
            "Current progress - 100, 92.80000305175781\n",
            "\n",
            "acquiring feature: 110...\n",
            "Current progress - 110, 93.60000610351562\n",
            "\n",
            "acquiring feature: 120...\n",
            "Current progress - 120, 94.31000518798828\n",
            "\n",
            "acquiring feature: 130...\n",
            "Current progress - 130, 95.08000946044922\n",
            "\n",
            "acquiring feature: 140...\n",
            "Current progress - 140, 95.45000457763672\n",
            "\n",
            "acquiring feature: 150...\n",
            "Current progress - 150, 95.82000732421875\n",
            "\n",
            "acquiring feature: 160...\n",
            "Current progress - 160, 96.1500015258789\n",
            "\n",
            "acquiring feature: 170...\n",
            "Current progress - 170, 96.45999908447266\n",
            "\n",
            "acquiring feature: 180...\n",
            "Current progress - 180, 96.58000183105469\n",
            "\n",
            "acquiring feature: 190...\n",
            "Current progress - 190, 96.66000366210938\n",
            "\n",
            "acquiring feature: 200...\n",
            "Current progress - 200, 96.92000579833984\n",
            "\n"
          ]
        },
        {
          "output_type": "display_data",
          "data": {
            "text/plain": [
              "<Figure size 432x288 with 0 Axes>"
            ]
          },
          "metadata": {}
        }
      ]
    },
    {
      "cell_type": "code",
      "source": [
        "show_some_digits(x_test[:10], feature_mask[:10])"
      ],
      "metadata": {
        "id": "PLfWgMPORA1w",
        "colab": {
          "base_uri": "https://localhost:8080/",
          "height": 702
        },
        "outputId": "fa1b7b58-d14f-4eac-e494-8aaaeee39338"
      },
      "execution_count": 25,
      "outputs": [
        {
          "output_type": "display_data",
          "data": {
            "image/png": "[encoded data removed]",
            "text/plain": [
              "<Figure size 1800x864 with 20 Axes>"
            ]
          },
          "metadata": {
            "needs_background": "light"
          }
        }
      ]
    },
    {
      "cell_type": "code",
      "source": [
        "rng, dropout_rng = jax.random.split(rng) \n",
        "rngs_iter = {'dropout': dropout_rng,}\n",
        "preds = pred(x_test[:10] * feature_mask[:10].reshape(-1,28,28,1), state.params, rngs_iter)\n",
        "show_preds(expit(preds))"
      ],
      "metadata": {
        "id": "3XaYo3V5NX5K",
        "colab": {
          "base_uri": "https://localhost:8080/",
          "height": 700
        },
        "outputId": "caede63b-5427-4248-a542-2f7a58c96643"
      },
      "execution_count": 26,
      "outputs": [
        {
          "output_type": "display_data",
          "data": {
            "image/png": "[encoded data removed]",
            "text/plain": [
              "<Figure size 1800x864 with 10 Axes>"
            ]
          },
          "metadata": {
            "needs_background": "light"
          }
        }
      ]
    },
    {
      "cell_type": "code",
      "source": [
        "show_grad_heatmap(grads[:10])"
      ],
      "metadata": {
        "id": "9EG_vUxnb96J",
        "colab": {
          "base_uri": "https://localhost:8080/",
          "height": 644
        },
        "outputId": "19d8a24f-40dc-45a9-cc95-f7e782df368b"
      },
      "execution_count": 27,
      "outputs": [
        {
          "output_type": "display_data",
          "data": {
            "image/png": "[encoded data removed]",
            "text/plain": [
              "<Figure size 1800x864 with 10 Axes>"
            ]
          },
          "metadata": {
            "needs_background": "light"
          }
        }
      ]
    },
    {
      "cell_type": "code",
      "source": [
        ""
      ],
      "metadata": {
        "id": "ksjZDdynMHI6"
      },
      "execution_count": null,
      "outputs": []
    }
  ]
}